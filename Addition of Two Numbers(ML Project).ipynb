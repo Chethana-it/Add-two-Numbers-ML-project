{
 "cells": [
  {
   "cell_type": "code",
   "execution_count": 1,
   "id": "4ba9e9f6",
   "metadata": {},
   "outputs": [],
   "source": [
    "##pandas preprocess data\n",
    "##Numpy numarical python, Array manipulations\n",
    "##we need these two libries for rading dataset"
   ]
  },
  {
   "cell_type": "markdown",
   "id": "46adda14",
   "metadata": {},
   "source": [
    "# Addition of two numbers using ML"
   ]
  },
  {
   "cell_type": "markdown",
   "id": "88466f06",
   "metadata": {},
   "source": [
    "## import libries"
   ]
  },
  {
   "cell_type": "code",
   "execution_count": 2,
   "id": "f295412c",
   "metadata": {},
   "outputs": [],
   "source": [
    "import pandas as pd"
   ]
  },
  {
   "cell_type": "code",
   "execution_count": 3,
   "id": "1abdf5cb",
   "metadata": {},
   "outputs": [],
   "source": [
    "data = pd.read_csv('addtwonumbers.csv')"
   ]
  },
  {
   "cell_type": "code",
   "execution_count": 4,
   "id": "c8e20540",
   "metadata": {},
   "outputs": [
    {
     "data": {
      "text/html": [
       "<div>\n",
       "<style scoped>\n",
       "    .dataframe tbody tr th:only-of-type {\n",
       "        vertical-align: middle;\n",
       "    }\n",
       "\n",
       "    .dataframe tbody tr th {\n",
       "        vertical-align: top;\n",
       "    }\n",
       "\n",
       "    .dataframe thead th {\n",
       "        text-align: right;\n",
       "    }\n",
       "</style>\n",
       "<table border=\"1\" class=\"dataframe\">\n",
       "  <thead>\n",
       "    <tr style=\"text-align: right;\">\n",
       "      <th></th>\n",
       "      <th>A</th>\n",
       "      <th>B</th>\n",
       "      <th>sum</th>\n",
       "    </tr>\n",
       "  </thead>\n",
       "  <tbody>\n",
       "    <tr>\n",
       "      <th>0</th>\n",
       "      <td>1</td>\n",
       "      <td>1</td>\n",
       "      <td>2</td>\n",
       "    </tr>\n",
       "    <tr>\n",
       "      <th>1</th>\n",
       "      <td>2</td>\n",
       "      <td>2</td>\n",
       "      <td>4</td>\n",
       "    </tr>\n",
       "    <tr>\n",
       "      <th>2</th>\n",
       "      <td>3</td>\n",
       "      <td>3</td>\n",
       "      <td>6</td>\n",
       "    </tr>\n",
       "    <tr>\n",
       "      <th>3</th>\n",
       "      <td>4</td>\n",
       "      <td>4</td>\n",
       "      <td>8</td>\n",
       "    </tr>\n",
       "    <tr>\n",
       "      <th>4</th>\n",
       "      <td>5</td>\n",
       "      <td>5</td>\n",
       "      <td>10</td>\n",
       "    </tr>\n",
       "    <tr>\n",
       "      <th>5</th>\n",
       "      <td>6</td>\n",
       "      <td>6</td>\n",
       "      <td>12</td>\n",
       "    </tr>\n",
       "    <tr>\n",
       "      <th>6</th>\n",
       "      <td>7</td>\n",
       "      <td>7</td>\n",
       "      <td>14</td>\n",
       "    </tr>\n",
       "    <tr>\n",
       "      <th>7</th>\n",
       "      <td>8</td>\n",
       "      <td>8</td>\n",
       "      <td>16</td>\n",
       "    </tr>\n",
       "    <tr>\n",
       "      <th>8</th>\n",
       "      <td>9</td>\n",
       "      <td>9</td>\n",
       "      <td>18</td>\n",
       "    </tr>\n",
       "    <tr>\n",
       "      <th>9</th>\n",
       "      <td>10</td>\n",
       "      <td>10</td>\n",
       "      <td>20</td>\n",
       "    </tr>\n",
       "  </tbody>\n",
       "</table>\n",
       "</div>"
      ],
      "text/plain": [
       "    A   B  sum\n",
       "0   1   1    2\n",
       "1   2   2    4\n",
       "2   3   3    6\n",
       "3   4   4    8\n",
       "4   5   5   10\n",
       "5   6   6   12\n",
       "6   7   7   14\n",
       "7   8   8   16\n",
       "8   9   9   18\n",
       "9  10  10   20"
      ]
     },
     "execution_count": 4,
     "metadata": {},
     "output_type": "execute_result"
    }
   ],
   "source": [
    "data"
   ]
  },
  {
   "cell_type": "code",
   "execution_count": 5,
   "id": "94319e15",
   "metadata": {},
   "outputs": [],
   "source": [
    "## upside of the dataset called head\n",
    "## downside the dataset called tail"
   ]
  },
  {
   "cell_type": "code",
   "execution_count": 6,
   "id": "59b7b204",
   "metadata": {},
   "outputs": [
    {
     "data": {
      "text/html": [
       "<div>\n",
       "<style scoped>\n",
       "    .dataframe tbody tr th:only-of-type {\n",
       "        vertical-align: middle;\n",
       "    }\n",
       "\n",
       "    .dataframe tbody tr th {\n",
       "        vertical-align: top;\n",
       "    }\n",
       "\n",
       "    .dataframe thead th {\n",
       "        text-align: right;\n",
       "    }\n",
       "</style>\n",
       "<table border=\"1\" class=\"dataframe\">\n",
       "  <thead>\n",
       "    <tr style=\"text-align: right;\">\n",
       "      <th></th>\n",
       "      <th>A</th>\n",
       "      <th>B</th>\n",
       "      <th>sum</th>\n",
       "    </tr>\n",
       "  </thead>\n",
       "  <tbody>\n",
       "    <tr>\n",
       "      <th>0</th>\n",
       "      <td>1</td>\n",
       "      <td>1</td>\n",
       "      <td>2</td>\n",
       "    </tr>\n",
       "    <tr>\n",
       "      <th>1</th>\n",
       "      <td>2</td>\n",
       "      <td>2</td>\n",
       "      <td>4</td>\n",
       "    </tr>\n",
       "    <tr>\n",
       "      <th>2</th>\n",
       "      <td>3</td>\n",
       "      <td>3</td>\n",
       "      <td>6</td>\n",
       "    </tr>\n",
       "    <tr>\n",
       "      <th>3</th>\n",
       "      <td>4</td>\n",
       "      <td>4</td>\n",
       "      <td>8</td>\n",
       "    </tr>\n",
       "    <tr>\n",
       "      <th>4</th>\n",
       "      <td>5</td>\n",
       "      <td>5</td>\n",
       "      <td>10</td>\n",
       "    </tr>\n",
       "  </tbody>\n",
       "</table>\n",
       "</div>"
      ],
      "text/plain": [
       "   A  B  sum\n",
       "0  1  1    2\n",
       "1  2  2    4\n",
       "2  3  3    6\n",
       "3  4  4    8\n",
       "4  5  5   10"
      ]
     },
     "execution_count": 6,
     "metadata": {},
     "output_type": "execute_result"
    }
   ],
   "source": [
    "data.head()"
   ]
  },
  {
   "cell_type": "code",
   "execution_count": 7,
   "id": "95d0ee20",
   "metadata": {},
   "outputs": [
    {
     "data": {
      "text/html": [
       "<div>\n",
       "<style scoped>\n",
       "    .dataframe tbody tr th:only-of-type {\n",
       "        vertical-align: middle;\n",
       "    }\n",
       "\n",
       "    .dataframe tbody tr th {\n",
       "        vertical-align: top;\n",
       "    }\n",
       "\n",
       "    .dataframe thead th {\n",
       "        text-align: right;\n",
       "    }\n",
       "</style>\n",
       "<table border=\"1\" class=\"dataframe\">\n",
       "  <thead>\n",
       "    <tr style=\"text-align: right;\">\n",
       "      <th></th>\n",
       "      <th>A</th>\n",
       "      <th>B</th>\n",
       "      <th>sum</th>\n",
       "    </tr>\n",
       "  </thead>\n",
       "  <tbody>\n",
       "    <tr>\n",
       "      <th>5</th>\n",
       "      <td>6</td>\n",
       "      <td>6</td>\n",
       "      <td>12</td>\n",
       "    </tr>\n",
       "    <tr>\n",
       "      <th>6</th>\n",
       "      <td>7</td>\n",
       "      <td>7</td>\n",
       "      <td>14</td>\n",
       "    </tr>\n",
       "    <tr>\n",
       "      <th>7</th>\n",
       "      <td>8</td>\n",
       "      <td>8</td>\n",
       "      <td>16</td>\n",
       "    </tr>\n",
       "    <tr>\n",
       "      <th>8</th>\n",
       "      <td>9</td>\n",
       "      <td>9</td>\n",
       "      <td>18</td>\n",
       "    </tr>\n",
       "    <tr>\n",
       "      <th>9</th>\n",
       "      <td>10</td>\n",
       "      <td>10</td>\n",
       "      <td>20</td>\n",
       "    </tr>\n",
       "  </tbody>\n",
       "</table>\n",
       "</div>"
      ],
      "text/plain": [
       "    A   B  sum\n",
       "5   6   6   12\n",
       "6   7   7   14\n",
       "7   8   8   16\n",
       "8   9   9   18\n",
       "9  10  10   20"
      ]
     },
     "execution_count": 7,
     "metadata": {},
     "output_type": "execute_result"
    }
   ],
   "source": [
    "data.tail()"
   ]
  },
  {
   "cell_type": "code",
   "execution_count": 8,
   "id": "2c901d6f",
   "metadata": {},
   "outputs": [
    {
     "data": {
      "text/plain": [
       "(10, 3)"
      ]
     },
     "execution_count": 8,
     "metadata": {},
     "output_type": "execute_result"
    }
   ],
   "source": [
    "## get no of columns and rows only shape not shape()\n",
    "data.shape"
   ]
  },
  {
   "cell_type": "code",
   "execution_count": 9,
   "id": "103136cb",
   "metadata": {},
   "outputs": [],
   "source": [
    "## ML steps\n",
    "\n",
    "## preproccesing - check missing values, null values(null values should be removed)\n",
    "## EDA - deep idea about data, identify the relationship data(matplotlib)\n",
    "## scale the values - how is the length, that means the difference between data(special libry sklearn)\n",
    "## train and test split - \n",
    "## Evaluate the model/Algorithm\n",
    "## deployment\n"
   ]
  },
  {
   "cell_type": "markdown",
   "id": "f9296b6f",
   "metadata": {},
   "source": [
    "# 1. preprocessing"
   ]
  },
  {
   "cell_type": "code",
   "execution_count": 10,
   "id": "c94c8741",
   "metadata": {},
   "outputs": [
    {
     "name": "stdout",
     "output_type": "stream",
     "text": [
      "<class 'pandas.core.frame.DataFrame'>\n",
      "RangeIndex: 10 entries, 0 to 9\n",
      "Data columns (total 3 columns):\n",
      " #   Column  Non-Null Count  Dtype\n",
      "---  ------  --------------  -----\n",
      " 0   A       10 non-null     int64\n",
      " 1   B       10 non-null     int64\n",
      " 2   sum     10 non-null     int64\n",
      "dtypes: int64(3)\n",
      "memory usage: 368.0 bytes\n"
     ]
    }
   ],
   "source": [
    "data.info()"
   ]
  },
  {
   "cell_type": "markdown",
   "id": "bfc117f6",
   "metadata": {},
   "source": [
    "# 2. Do EDA."
   ]
  },
  {
   "cell_type": "code",
   "execution_count": 11,
   "id": "4227ecf8",
   "metadata": {},
   "outputs": [],
   "source": [
    "import matplotlib.pyplot as plt"
   ]
  },
  {
   "cell_type": "code",
   "execution_count": 12,
   "id": "8327c9ba",
   "metadata": {},
   "outputs": [
    {
     "data": {
      "text/plain": [
       "<matplotlib.collections.PathCollection at 0x1d32844f550>"
      ]
     },
     "execution_count": 12,
     "metadata": {},
     "output_type": "execute_result"
    },
    {
     "data": {
      "image/png": "[encoded data removed]",
      "text/plain": [
       "<Figure size 432x288 with 1 Axes>"
      ]
     },
     "metadata": {
      "needs_background": "light"
     },
     "output_type": "display_data"
    }
   ],
   "source": [
    "plt.scatter(data['A'],data['sum'])"
   ]
  },
  {
   "cell_type": "code",
   "execution_count": 13,
   "id": "23bfed74",
   "metadata": {},
   "outputs": [
    {
     "data": {
      "text/plain": [
       "<matplotlib.collections.PathCollection at 0x1d328bf6be0>"
      ]
     },
     "execution_count": 13,
     "metadata": {},
     "output_type": "execute_result"
    },
    {
     "data": {
      "image/png": "[encoded data removed]",
      "text/plain": [
       "<Figure size 432x288 with 1 Axes>"
      ]
     },
     "metadata": {
      "needs_background": "light"
     },
     "output_type": "display_data"
    }
   ],
   "source": [
    "plt.scatter(data['B'],data['sum'])"
   ]
  },
  {
   "cell_type": "markdown",
   "id": "0917a359",
   "metadata": {},
   "source": [
    "# 3. Identify the pattern "
   ]
  },
  {
   "cell_type": "code",
   "execution_count": 14,
   "id": "33ae6c0b",
   "metadata": {},
   "outputs": [],
   "source": [
    "# According to EDA proccess the algorithm can be identified \n",
    "# This is linear regression"
   ]
  },
  {
   "cell_type": "markdown",
   "id": "cf7511c2",
   "metadata": {},
   "source": [
    "# 4. Store feture mtrix in X and Response in vector y\n"
   ]
  },
  {
   "cell_type": "code",
   "execution_count": 15,
   "id": "2145a0a8",
   "metadata": {},
   "outputs": [],
   "source": [
    "#X(capital we can store inputs)\n",
    "#y(simple we can store outputs)"
   ]
  },
  {
   "cell_type": "code",
   "execution_count": 16,
   "id": "b31a3905",
   "metadata": {},
   "outputs": [],
   "source": [
    "X = data[['A','B']]\n",
    "y = data['sum']"
   ]
  },
  {
   "cell_type": "markdown",
   "id": "8fd441d5",
   "metadata": {},
   "source": [
    "# 5. Train - Test Split"
   ]
  },
  {
   "cell_type": "code",
   "execution_count": 17,
   "id": "ae88093e",
   "metadata": {},
   "outputs": [],
   "source": [
    "# we use here sklearn libry\n",
    "# model_selection should be imported "
   ]
  },
  {
   "cell_type": "code",
   "execution_count": 18,
   "id": "69d78286",
   "metadata": {},
   "outputs": [],
   "source": [
    "from sklearn.model_selection import train_test_split\n",
    "#train_test_split()\n",
    "\n",
    "X_train, X_test, y_train, y_test = train_test_split(X,y, test_size=0.33,random_state=42)\n"
   ]
  },
  {
   "cell_type": "code",
   "execution_count": 19,
   "id": "952b91bb",
   "metadata": {},
   "outputs": [
    {
     "data": {
      "text/html": [
       "<div>\n",
       "<style scoped>\n",
       "    .dataframe tbody tr th:only-of-type {\n",
       "        vertical-align: middle;\n",
       "    }\n",
       "\n",
       "    .dataframe tbody tr th {\n",
       "        vertical-align: top;\n",
       "    }\n",
       "\n",
       "    .dataframe thead th {\n",
       "        text-align: right;\n",
       "    }\n",
       "</style>\n",
       "<table border=\"1\" class=\"dataframe\">\n",
       "  <thead>\n",
       "    <tr style=\"text-align: right;\">\n",
       "      <th></th>\n",
       "      <th>A</th>\n",
       "      <th>B</th>\n",
       "    </tr>\n",
       "  </thead>\n",
       "  <tbody>\n",
       "    <tr>\n",
       "      <th>7</th>\n",
       "      <td>8</td>\n",
       "      <td>8</td>\n",
       "    </tr>\n",
       "    <tr>\n",
       "      <th>2</th>\n",
       "      <td>3</td>\n",
       "      <td>3</td>\n",
       "    </tr>\n",
       "    <tr>\n",
       "      <th>9</th>\n",
       "      <td>10</td>\n",
       "      <td>10</td>\n",
       "    </tr>\n",
       "    <tr>\n",
       "      <th>4</th>\n",
       "      <td>5</td>\n",
       "      <td>5</td>\n",
       "    </tr>\n",
       "    <tr>\n",
       "      <th>3</th>\n",
       "      <td>4</td>\n",
       "      <td>4</td>\n",
       "    </tr>\n",
       "    <tr>\n",
       "      <th>6</th>\n",
       "      <td>7</td>\n",
       "      <td>7</td>\n",
       "    </tr>\n",
       "  </tbody>\n",
       "</table>\n",
       "</div>"
      ],
      "text/plain": [
       "    A   B\n",
       "7   8   8\n",
       "2   3   3\n",
       "9  10  10\n",
       "4   5   5\n",
       "3   4   4\n",
       "6   7   7"
      ]
     },
     "execution_count": 19,
     "metadata": {},
     "output_type": "execute_result"
    }
   ],
   "source": [
    "X_train"
   ]
  },
  {
   "cell_type": "markdown",
   "id": "ce8b07e5",
   "metadata": {},
   "source": [
    "# 6. Import and Train the model"
   ]
  },
  {
   "cell_type": "code",
   "execution_count": 20,
   "id": "8e0f296e",
   "metadata": {},
   "outputs": [],
   "source": [
    "# model should be given liner regression\n",
    "# It comes from sklearn\n"
   ]
  },
  {
   "cell_type": "code",
   "execution_count": 21,
   "id": "19d0892b",
   "metadata": {},
   "outputs": [],
   "source": [
    "from sklearn.linear_model import LinearRegression"
   ]
  },
  {
   "cell_type": "code",
   "execution_count": 22,
   "id": "abeb653d",
   "metadata": {},
   "outputs": [],
   "source": [
    "#create a instance(object) of model\n",
    "model = LinearRegression()"
   ]
  },
  {
   "cell_type": "code",
   "execution_count": 23,
   "id": "bf5f553b",
   "metadata": {},
   "outputs": [
    {
     "data": {
      "text/plain": [
       "LinearRegression()"
      ]
     },
     "execution_count": 23,
     "metadata": {},
     "output_type": "execute_result"
    }
   ],
   "source": [
    "#Train the model\n",
    "#give the train parameters inside the method\n",
    "model.fit(X_train,y_train)"
   ]
  },
  {
   "cell_type": "markdown",
   "id": "974b63f0",
   "metadata": {},
   "source": [
    "# Model's prediction performance"
   ]
  },
  {
   "cell_type": "code",
   "execution_count": 24,
   "id": "670cd00f",
   "metadata": {},
   "outputs": [
    {
     "data": {
      "text/plain": [
       "LinearRegression()"
      ]
     },
     "execution_count": 24,
     "metadata": {},
     "output_type": "execute_result"
    }
   ],
   "source": [
    "# How well our model fitted is checked using the sore() training and testion seperately\n",
    "\n",
    "model.fit(X_train,y_train)"
   ]
  },
  {
   "cell_type": "code",
   "execution_count": 25,
   "id": "7ca78772",
   "metadata": {},
   "outputs": [
    {
     "data": {
      "text/plain": [
       "LinearRegression()"
      ]
     },
     "execution_count": 25,
     "metadata": {},
     "output_type": "execute_result"
    }
   ],
   "source": [
    "model.fit(X_test,y_test)"
   ]
  },
  {
   "cell_type": "code",
   "execution_count": 26,
   "id": "fd1453a6",
   "metadata": {},
   "outputs": [
    {
     "data": {
      "text/plain": [
       "1.0"
      ]
     },
     "execution_count": 26,
     "metadata": {},
     "output_type": "execute_result"
    }
   ],
   "source": [
    "model.score(X_train,y_train)"
   ]
  },
  {
   "cell_type": "code",
   "execution_count": 27,
   "id": "31102624",
   "metadata": {},
   "outputs": [
    {
     "data": {
      "text/plain": [
       "1.0"
      ]
     },
     "execution_count": 27,
     "metadata": {},
     "output_type": "execute_result"
    }
   ],
   "source": [
    "model.score(X_test,y_test)"
   ]
  },
  {
   "cell_type": "markdown",
   "id": "367b138a",
   "metadata": {},
   "source": [
    "# 8. Compare the results"
   ]
  },
  {
   "cell_type": "code",
   "execution_count": 28,
   "id": "5ac54cee",
   "metadata": {},
   "outputs": [],
   "source": [
    "# predict data is saved\n",
    "y_pred = model.predict(X_test)"
   ]
  },
  {
   "cell_type": "code",
   "execution_count": 29,
   "id": "5447de8c",
   "metadata": {},
   "outputs": [
    {
     "data": {
      "text/plain": [
       "array([18.,  4., 12.,  2.])"
      ]
     },
     "execution_count": 29,
     "metadata": {},
     "output_type": "execute_result"
    }
   ],
   "source": [
    "y_pred"
   ]
  },
  {
   "cell_type": "code",
   "execution_count": 30,
   "id": "580c4766",
   "metadata": {},
   "outputs": [
    {
     "data": {
      "text/plain": [
       "8    18\n",
       "1     4\n",
       "5    12\n",
       "0     2\n",
       "Name: sum, dtype: int64"
      ]
     },
     "execution_count": 30,
     "metadata": {},
     "output_type": "execute_result"
    }
   ],
   "source": [
    "\n",
    "y_test"
   ]
  },
  {
   "cell_type": "code",
   "execution_count": 31,
   "id": "60752c09",
   "metadata": {},
   "outputs": [],
   "source": [
    "# Compare using data frame\n",
    "df = pd.DataFrame({'Actual':y_test,'Prediction':y_pred})"
   ]
  },
  {
   "cell_type": "code",
   "execution_count": 32,
   "id": "92260ae6",
   "metadata": {},
   "outputs": [
    {
     "data": {
      "text/html": [
       "<div>\n",
       "<style scoped>\n",
       "    .dataframe tbody tr th:only-of-type {\n",
       "        vertical-align: middle;\n",
       "    }\n",
       "\n",
       "    .dataframe tbody tr th {\n",
       "        vertical-align: top;\n",
       "    }\n",
       "\n",
       "    .dataframe thead th {\n",
       "        text-align: right;\n",
       "    }\n",
       "</style>\n",
       "<table border=\"1\" class=\"dataframe\">\n",
       "  <thead>\n",
       "    <tr style=\"text-align: right;\">\n",
       "      <th></th>\n",
       "      <th>Actual</th>\n",
       "      <th>Prediction</th>\n",
       "    </tr>\n",
       "  </thead>\n",
       "  <tbody>\n",
       "    <tr>\n",
       "      <th>8</th>\n",
       "      <td>18</td>\n",
       "      <td>18.0</td>\n",
       "    </tr>\n",
       "    <tr>\n",
       "      <th>1</th>\n",
       "      <td>4</td>\n",
       "      <td>4.0</td>\n",
       "    </tr>\n",
       "    <tr>\n",
       "      <th>5</th>\n",
       "      <td>12</td>\n",
       "      <td>12.0</td>\n",
       "    </tr>\n",
       "    <tr>\n",
       "      <th>0</th>\n",
       "      <td>2</td>\n",
       "      <td>2.0</td>\n",
       "    </tr>\n",
       "  </tbody>\n",
       "</table>\n",
       "</div>"
      ],
      "text/plain": [
       "   Actual  Prediction\n",
       "8      18        18.0\n",
       "1       4         4.0\n",
       "5      12        12.0\n",
       "0       2         2.0"
      ]
     },
     "execution_count": 32,
     "metadata": {},
     "output_type": "execute_result"
    }
   ],
   "source": [
    "df"
   ]
  },
  {
   "cell_type": "markdown",
   "id": "1e03cc30",
   "metadata": {},
   "source": [
    "# 9. Prediction on new samples"
   ]
  },
  {
   "cell_type": "code",
   "execution_count": 33,
   "id": "39bc9488",
   "metadata": {},
   "outputs": [
    {
     "data": {
      "text/plain": [
       "array([61.])"
      ]
     },
     "execution_count": 33,
     "metadata": {},
     "output_type": "execute_result"
    }
   ],
   "source": [
    "#Use an array according to a number of features. if two variables 2D array.\n",
    "model.predict([[27,34]])"
   ]
  },
  {
   "cell_type": "code",
   "execution_count": 34,
   "id": "ae9d1a41",
   "metadata": {},
   "outputs": [
    {
     "data": {
      "text/plain": [
       "array([161.])"
      ]
     },
     "execution_count": 34,
     "metadata": {},
     "output_type": "execute_result"
    }
   ],
   "source": [
    "model.predict([[127,34]])"
   ]
  },
  {
   "cell_type": "code",
   "execution_count": 35,
   "id": "747b2739",
   "metadata": {},
   "outputs": [],
   "source": [
    "# Next we are going to this production\n",
    "# when it is sent to production we can go \n",
    "# we save this dataset called pickel file and also using joblib libry\n",
    "# the advantage is we donot want to train again and again "
   ]
  },
  {
   "cell_type": "markdown",
   "id": "df6f576c",
   "metadata": {},
   "source": [
    "# 10. Save the model using joblib or pickel"
   ]
  },
  {
   "cell_type": "code",
   "execution_count": 36,
   "id": "169069b7",
   "metadata": {},
   "outputs": [],
   "source": [
    "import joblib "
   ]
  },
  {
   "cell_type": "code",
   "execution_count": 37,
   "id": "c69deae5",
   "metadata": {},
   "outputs": [
    {
     "data": {
      "text/plain": [
       "['model_joblib']"
      ]
     },
     "execution_count": 37,
     "metadata": {},
     "output_type": "execute_result"
    }
   ],
   "source": [
    "# model will be saved according to the name\n",
    "joblib.dump(model,'model_joblib')"
   ]
  },
  {
   "cell_type": "code",
   "execution_count": 38,
   "id": "f592751a",
   "metadata": {},
   "outputs": [],
   "source": [
    "#Load model\n",
    "model = joblib.load('model_joblib')"
   ]
  },
  {
   "cell_type": "code",
   "execution_count": 39,
   "id": "ebb6feee",
   "metadata": {},
   "outputs": [
    {
     "data": {
      "text/plain": [
       "array([161.])"
      ]
     },
     "execution_count": 39,
     "metadata": {},
     "output_type": "execute_result"
    }
   ],
   "source": [
    "#check prediction\n",
    "model.predict([[127,34]])"
   ]
  },
  {
   "cell_type": "code",
   "execution_count": 40,
   "id": "043cbaa1",
   "metadata": {},
   "outputs": [],
   "source": [
    "#before sending production we have to dataset train entirely. that means before creating GUI , before deploy"
   ]
  },
  {
   "cell_type": "code",
   "execution_count": 41,
   "id": "547c42b3",
   "metadata": {},
   "outputs": [],
   "source": [
    "x = data[['A','B']]\n",
    "y = data['sum']"
   ]
  },
  {
   "cell_type": "code",
   "execution_count": 42,
   "id": "47ad1176",
   "metadata": {},
   "outputs": [
    {
     "data": {
      "text/plain": [
       "LinearRegression()"
      ]
     },
     "execution_count": 42,
     "metadata": {},
     "output_type": "execute_result"
    }
   ],
   "source": [
    "model=LinearRegression()\n",
    "model.fit(x,y)"
   ]
  },
  {
   "cell_type": "code",
   "execution_count": 43,
   "id": "b03fa201",
   "metadata": {},
   "outputs": [
    {
     "data": {
      "text/plain": [
       "array([161.])"
      ]
     },
     "execution_count": 43,
     "metadata": {},
     "output_type": "execute_result"
    }
   ],
   "source": [
    "import joblib\n",
    "joblib.dump(model,'model_joblib')\n",
    "model = joblib.load('model_joblib')\n",
    "model.predict([[127,34]])"
   ]
  },
  {
   "cell_type": "markdown",
   "id": "624968c4",
   "metadata": {},
   "source": [
    "# 11. GUI"
   ]
  },
  {
   "cell_type": "code",
   "execution_count": 44,
   "id": "90a839d2",
   "metadata": {},
   "outputs": [],
   "source": [
    "# for GUI tkinter libry \n",
    "from tkinter import *"
   ]
  },
  {
   "cell_type": "code",
   "execution_count": 45,
   "id": "5db8af0c",
   "metadata": {},
   "outputs": [],
   "source": [
    "# save \n",
    "import joblib"
   ]
  },
  {
   "cell_type": "code",
   "execution_count": 46,
   "id": "2d37a7e2",
   "metadata": {},
   "outputs": [],
   "source": [
    "#create instance\n",
    "master=Tk()"
   ]
  },
  {
   "cell_type": "code",
   "execution_count": 47,
   "id": "bfa25e04",
   "metadata": {},
   "outputs": [
    {
     "data": {
      "text/plain": [
       "''"
      ]
     },
     "execution_count": 47,
     "metadata": {},
     "output_type": "execute_result"
    }
   ],
   "source": [
    "# name title\n",
    "master.title(\"Addition of two numbers using ML\")"
   ]
  },
  {
   "cell_type": "code",
   "execution_count": 48,
   "id": "1bbda018",
   "metadata": {},
   "outputs": [],
   "source": [
    "label = Label(master, text = \"addition of two numbers using ML\", bg='black',fg='white').grid(row=0,columnspan=2)"
   ]
  },
  {
   "cell_type": "markdown",
   "id": "52a3e3ec",
   "metadata": {},
   "source": [
    "# 12. Applying labels"
   ]
  },
  {
   "cell_type": "code",
   "execution_count": 49,
   "id": "149cd61e",
   "metadata": {},
   "outputs": [
    {
     "name": "stdout",
     "output_type": "stream",
     "text": [
      "[146.]\n"
     ]
    }
   ],
   "source": [
    "def show_entry_fields():\n",
    "    p1 = int(e1.get())\n",
    "    p2 = int(e2.get())\n",
    "    \n",
    "    model = joblib.load('model_joblib')\n",
    "    result = model.predict([[p1,p2]])\n",
    "    \n",
    "    Label(master,text='sum is = ').grid(row=4)\n",
    "    Label(master,text= result).grid(row=3)\n",
    "    \n",
    "    print(result)\n",
    "    \n",
    "    \n",
    "\n",
    "Label(master,text=\"Enter First Number\").grid(row=1)\n",
    "Label(master,text=\"Enter Second Number\").grid(row=2)\n",
    "\n",
    "e1 = Entry(master)\n",
    "e2 = Entry(master)\n",
    "\n",
    "e1.grid(row=1,column=1)\n",
    "e2.grid(row=2,column=1)\n",
    "Button(master,text=\"predict\",command=show_entry_fields).grid()\n",
    "\n",
    "mainloop()"
   ]
  },
  {
   "cell_type": "code",
   "execution_count": null,
   "id": "c916b161",
   "metadata": {},
   "outputs": [],
   "source": []
  }
 ],
 "metadata": {
  "kernelspec": {
   "display_name": "Python 3 (ipykernel)",
   "language": "python",
   "name": "python3"
  },
  "language_info": {
   "codemirror_mode": {
    "name": "ipython",
    "version": 3
   },
   "file_extension": ".py",
   "mimetype": "text/x-python",
   "name": "python",
   "nbconvert_exporter": "python",
   "pygments_lexer": "ipython3",
   "version": "3.9.7"
  }
 },
 "nbformat": 4,
 "nbformat_minor": 5
}
